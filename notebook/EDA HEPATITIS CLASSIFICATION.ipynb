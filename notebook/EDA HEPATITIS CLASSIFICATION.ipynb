{
 "cells": [
  {
   "cell_type": "markdown",
   "id": "87c57aad",
   "metadata": {},
   "source": [
    "# Predicting hepatitis C virus using machine learning \n",
    "This note book looks into using various Python-based machine learning and data science libraries \n",
    "in an attenpt to build a machine learning model capable of predicting whether or not someone has \n",
    "hepatitis based on their medical attributes.\n",
    "\n",
    "we're going to take the following steps:\n",
    "\n",
    "    1. Problem definition\n",
    "    2. data\n",
    "    3. Evaluation \n",
    "    4. Featuring\n",
    "    5. Modelling\n",
    "    6. Experimentation "
   ]
  },
  {
   "cell_type": "markdown",
   "id": "429c9b5d",
   "metadata": {},
   "source": [
    "# 1. Problem Definition\n",
    "\n",
    ">Given clinical parameters about a patient, can we predict whether or not they have hepatitis virus?"
   ]
  },
  {
   "cell_type": "markdown",
   "id": "dabb745a",
   "metadata": {},
   "source": [
    "# 2. Data\n",
    "The dataset contains laboratory values of blood donors and Hepatitis C patients and demographic values like age. \n",
    " \n",
    "link: https://archive.ics.uci.edu/ml/datasets/HCV+data\n",
    "\n",
    "kaggle version available here: \n",
    "\n",
    "link: https://www.kaggle.com/datasets/fedesoriano/hepatitis-c-dataset\n",
    "\n",
    "\n",
    "* Source: The Original data came from the  University of California Irvine (UCI) ML Reository.\n",
    "* Creators: Ralf Lichtinghagen, Frank Klawonn, Georg Hoffmann\n",
    "* Donor1 : Ralf Lichtinghagen: Institute of Clinical Chemistry; Medical University Hannover (MHH); Hannover, Germany; lichtinghagen.ralf '@' mh-hannover.de\n",
    "* Donor2 : Frank Klawonn; Helmholtz Centre for Infection Research; Braunschweig, Germany; frank.klawonn '@' helmholtz-hzi.de\n",
    "* Donor2: Georg Hoffmann; Trillium GmbH; Grafrath, Germany; georg.hoffmann '@' trillium.de"
   ]
  },
  {
   "cell_type": "markdown",
   "id": "53e5710c",
   "metadata": {},
   "source": [
    "# 3. Evaluating \n",
    "> if we can reach 95% accuracy predicting whether or not a patient has heart disease during the proof of concept, we'll pursue the project"
   ]
  },
  {
   "cell_type": "markdown",
   "id": "8b8f166e",
   "metadata": {},
   "source": [
    "# 4. Features\n",
    "Content of the Data:\n",
    "\n",
    "All attributes except Category and Sex are numerical. The laboratory data are the attributes 5-14.\n",
    "\n",
    "* 1) X (Patient ID/No.)\n",
    "* 2) Category (diagnosis) (values: '0=Blood Donor', '0s=suspect Blood Donor', '1=Hepatitis',  '2=Fibrosis', '3=Cirrhosis')\n",
    "* 3) Age (in years)\n",
    "* 4) Sex (f,m) # after some data manipulations female=2, male=1. for our program understands better with numeric values\n",
    "* 5) ALB - Albumin: An albumin blood test measures the amount of albumin in your blood. Low albumin levels can be a sign of liver or kidney disease or another medical condition\n",
    "\n",
    "* 6) ALP - Alkaline phosphatase is a protein found in all body tissues. Tissues with higher amounts of ALP include the liver, bile ducts, and bone. A blood test can be done to measure the level of ALP. A related test is the ALP isoenzyme test.\n",
    "\n",
    "* 7) ALT - Alanine Transaminase. It is an enzyme found mostly in the liver. An ALT test measures the amount of ALT in the blood. When liver cells are damaged, they release ALT into the bloodstream.\n",
    "\n",
    "* 8) AST - Aspartate Aminotransferase is an enzyme that is found mostly in the liver, but it's also in muscles and other organs in your body. When cells that contain AST are damaged, they release the AST into your blood\n",
    "\n",
    "* 9) BIL - Bil/i: Pertaining to bile or gall (from Latin bilis). Produced by the liver and stored in the gall bladder, bile is a yellowish-green fluid that aids in the digestion of fats\n",
    "\n",
    "* 10) CHE - Cholinesterase: An enzyme that occurs chiefly at neuromuscular junctions and promotes the hydrolysis of acetylcholine at postsynaptic receptors : acetylcholinesterase. 2 : butyrylcholinesterase.\n",
    "\n",
    "* 11) CHOL - Cholesterol from food mostly ends up in the liver. If you are getting too much, this can increase your risk for fatty liver disease. High cholesterol also can turn fatty liver disease (steatosis) into a more serious and sometimes fatal condition known as nonalcoholic steatohepatitis (NASH).\n",
    "* 12) CREA -  Creatinine: A compound that is excreted from the body in urine. Creatinine levels are measured to monitor kidney function\n",
    "* 13) GGT - A gamma-glutamyl transferase (GGT) test measures the amount of GGT in the blood. GGT is an enzyme found throughout the body, but it is mostly found in the liver. When the liver is damaged, GGT may leak into the bloodstream. High levels of GGT in the blood may be a sign of liver disease or damage to the bile ducts.\n",
    "* 14) PROT - proto- , prot- Combining forms meaning the first in a series; the highest in rank. [G. prōtos, first]\n",
    "\n",
    "\n"
   ]
  },
  {
   "cell_type": "markdown",
   "id": "5a8237a9",
   "metadata": {},
   "source": [
    "## Preparing the tools\n",
    "\n",
    "\n",
    "* matplot for plotting data \n",
    "* numpy manipulation of data\n",
    "* pandas for data analysis and manipulation\n",
    "* sklearn for data modelling and evaluation \n",
    "\n"
   ]
  },
  {
   "cell_type": "code",
   "execution_count": null,
   "id": "8f82b728",
   "metadata": {},
   "outputs": [],
   "source": [
    "# Import all the tools we need \n",
    "\n",
    "# Regular EDA (exploratory data analyssis) and plotting lbraries\n",
    "import numpy as np\n",
    "import pandas as pd\n",
    "import matplotlib.pyplot as plt\n",
    "import warnings\n",
    "warnings.filterwarnings('ignore')\n",
    "#we want our plots to appear inside the notebook\n",
    "%matplotlib inline \n",
    "\n",
    "# Models from Scikit-learn\n",
    "from sklearn.linear_model import LogisticRegression\n",
    "from sklearn.neighbors import KNeighborsClassifier\n",
    "from sklearn.ensemble import RandomForestClassifier\n",
    "\n",
    "# Model Evaluations \n",
    "from sklearn.model_selection import train_test_split\n",
    "from sklearn.model_selection import RandomizedSearchCV, GridSearchCV, cross_val_score\n",
    "from sklearn.metrics import confusion_matrix, classification_report\n",
    "from sklearn.metrics import precision_score, recall_score, f1_score \n",
    "from sklearn.metrics import plot_roc_curve\n",
    "\n",
    "\n",
    "\n"
   ]
  },
  {
   "cell_type": "code",
   "execution_count": null,
   "id": "09701af0",
   "metadata": {},
   "outputs": [],
   "source": [
    "print(f\"it takes {%%time}\" to import libraries)"
   ]
  },
  {
   "cell_type": "markdown",
   "id": "e9b058d0",
   "metadata": {},
   "source": [
    "## Data Preparation/Manipulation"
   ]
  },
  {
   "cell_type": "code",
   "execution_count": null,
   "id": "40f6af28",
   "metadata": {},
   "outputs": [],
   "source": [
    "hepatitis = pd.read_csv(\"data/HepatitisCdata.csv\")\n",
    "hepatitis"
   ]
  },
  {
   "cell_type": "code",
   "execution_count": null,
   "id": "55bd6bcf",
   "metadata": {},
   "outputs": [],
   "source": [
    "hepatitis.info()"
   ]
  },
  {
   "cell_type": "code",
   "execution_count": null,
   "id": "11229056",
   "metadata": {},
   "outputs": [],
   "source": [
    "hepatitis.isna().sum()"
   ]
  },
  {
   "cell_type": "code",
   "execution_count": null,
   "id": "e81a6484",
   "metadata": {},
   "outputs": [],
   "source": [
    "df = hepatitis.copy()\n",
    "df[:5]"
   ]
  },
  {
   "cell_type": "code",
   "execution_count": null,
   "id": "546518bd",
   "metadata": {},
   "outputs": [],
   "source": [
    "df[df[\"Category\"] == \"0=Blood Donor\"] = 0"
   ]
  },
  {
   "cell_type": "code",
   "execution_count": null,
   "id": "0c9fc3a1",
   "metadata": {},
   "outputs": [],
   "source": [
    "df"
   ]
  },
  {
   "cell_type": "code",
   "execution_count": null,
   "id": "40845e29",
   "metadata": {},
   "outputs": [],
   "source": [
    "df[df[\"Category\"] ==\"0s=suspect Blood Donor\"] = 0"
   ]
  },
  {
   "cell_type": "code",
   "execution_count": null,
   "id": "f10e713a",
   "metadata": {},
   "outputs": [],
   "source": [
    "df[df[\"Category\"] ==\"1=Hepatitis\"] = 1\n",
    "df"
   ]
  },
  {
   "cell_type": "code",
   "execution_count": null,
   "id": "a045fcd0",
   "metadata": {},
   "outputs": [],
   "source": [
    "df[df[\"Category\"] ==\"1=Hepatitis\"] = 1\n",
    "df[df[\"Category\"] ==\"2=Fibrosis\"] = 2\n",
    "df[df[\"Category\"] == \"3=Cirrhosis\"] = 3\n"
   ]
  },
  {
   "cell_type": "code",
   "execution_count": null,
   "id": "b78af5d2",
   "metadata": {},
   "outputs": [],
   "source": [
    "df"
   ]
  },
  {
   "cell_type": "code",
   "execution_count": null,
   "id": "385e559a",
   "metadata": {},
   "outputs": [],
   "source": [
    "df.isna().sum()"
   ]
  },
  {
   "cell_type": "code",
   "execution_count": null,
   "id": "2ed1f30d",
   "metadata": {},
   "outputs": [],
   "source": [
    "newdf = hepatitis.copy()"
   ]
  },
  {
   "cell_type": "code",
   "execution_count": null,
   "id": "c5f96e97",
   "metadata": {},
   "outputs": [],
   "source": [
    "newdf.replace(\"0=Blood Donor\", 0, inplace=True)\n",
    "newdf.replace([\"0s=suspect Blood Donor\", 4],['1=Hepatitis', 1], inplace=True)\n",
    "newdf[\"Category\"].value_counts()"
   ]
  },
  {
   "cell_type": "code",
   "execution_count": null,
   "id": "70cd7044",
   "metadata": {},
   "outputs": [],
   "source": [
    "'0=Blood Donor', '0s=suspect Blood Donor', '1=Hepatitis',  '2=Fibrosis', '3=Cirrhosis'\n"
   ]
  },
  {
   "cell_type": "code",
   "execution_count": null,
   "id": "4624ebb6",
   "metadata": {},
   "outputs": [],
   "source": [
    "# Turning the category column to numeric values\n",
    "hepatitis.replace(\"0=Blood Donor\", 0, inplace=True)\n",
    "hepatitis.replace(\"1=Hepatitis\", 1, inplace=True)\n",
    "hepatitis.replace(\"2=Fibrosis\", 2, inplace=True)\n",
    "hepatitis.replace(\"3=Cirrhosis\", 3, inplace=True)\n",
    "hepatitis.replace(\"0s=suspect Blood Donor\", 4, inplace=True)\n",
    "hepatitis"
   ]
  },
  {
   "cell_type": "code",
   "execution_count": null,
   "id": "366ef42b",
   "metadata": {},
   "outputs": [],
   "source": [
    "# checking missing values\n",
    "hepatitis.isnull().sum()"
   ]
  },
  {
   "cell_type": "code",
   "execution_count": null,
   "id": "0ec066be",
   "metadata": {},
   "outputs": [],
   "source": [
    "hepatitis.info()"
   ]
  },
  {
   "cell_type": "code",
   "execution_count": null,
   "id": "08b59a25",
   "metadata": {},
   "outputs": [],
   "source": [
    "# Find the colums which contain strings \n",
    "\n",
    "for label, content in hepatitis.items():\n",
    "    if pd.api.types.is_string_dtype(content):\n",
    "        print(label)"
   ]
  },
  {
   "cell_type": "code",
   "execution_count": null,
   "id": "bc5668f0",
   "metadata": {},
   "outputs": [],
   "source": [
    "# This will turn all of the string value into category value \n",
    "for label, content in hepatitis.items():\n",
    "    if pd.api.types.is_string_dtype(content):\n",
    "        hepatitis[label] = content.astype(\"category\").cat.as_ordered()"
   ]
  },
  {
   "cell_type": "code",
   "execution_count": null,
   "id": "f5fd3043",
   "metadata": {},
   "outputs": [],
   "source": [
    "hepatitis.info()"
   ]
  },
  {
   "cell_type": "code",
   "execution_count": null,
   "id": "d2ecba6d",
   "metadata": {},
   "outputs": [],
   "source": [
    "data = hepatitis.copy()\n",
    "data"
   ]
  },
  {
   "cell_type": "code",
   "execution_count": null,
   "id": "e8fe02d9",
   "metadata": {},
   "outputs": [],
   "source": [
    "data.isna().sum()"
   ]
  },
  {
   "cell_type": "code",
   "execution_count": null,
   "id": "71c2971e",
   "metadata": {},
   "outputs": [],
   "source": [
    "# checking numerical columns\n",
    "for label, content in hepatitis.items():\n",
    "    if pd.api.types.is_numeric_dtype(content):\n",
    "        print(label)"
   ]
  },
  {
   "cell_type": "code",
   "execution_count": null,
   "id": "1c181709",
   "metadata": {},
   "outputs": [],
   "source": [
    "#checking which numerical column has missing values\n",
    "for label, content in hepatitis.items():\n",
    "    if pd.api.types.is_numeric_dtype(content):\n",
    "        if pd.isnull(content).sum():\n",
    "            print(label)"
   ]
  },
  {
   "cell_type": "code",
   "execution_count": null,
   "id": "79f7b05a",
   "metadata": {},
   "outputs": [],
   "source": [
    "# Fill missing numerical columns with median \n",
    "for label, content in hepatitis.items():\n",
    "    if pd.api.types.is_numeric_dtype(content):\n",
    "        if pd.isnull(content).sum():\n",
    "            # binary columns telling missing data\n",
    "            hepatitis[label + \"_is_missing\"] = pd.isnull(content)\n",
    "            # fill missing values with median\n",
    "            hepatitis[label] = content.fillna(content.median())\n",
    "        \n"
   ]
  },
  {
   "cell_type": "code",
   "execution_count": null,
   "id": "31475b9f",
   "metadata": {},
   "outputs": [],
   "source": [
    "hepatitis.isnull().sum()"
   ]
  },
  {
   "cell_type": "code",
   "execution_count": null,
   "id": "4bee6a45",
   "metadata": {},
   "outputs": [],
   "source": [
    "hepatitis[\"ALB_is_missing\"].value_counts()"
   ]
  },
  {
   "cell_type": "code",
   "execution_count": null,
   "id": "0677db1b",
   "metadata": {},
   "outputs": [],
   "source": [
    "# check columns that are'nt numeric \n",
    "for label, content in hepatitis.items():\n",
    "    if not pd.api.types.is_numeric_dtype(content):\n",
    "        print(label)\n"
   ]
  },
  {
   "cell_type": "code",
   "execution_count": null,
   "id": "515682a7",
   "metadata": {},
   "outputs": [],
   "source": [
    "# turn categorical variables into numeric \n",
    "for label,content in hepatitis.items():\n",
    "    if not pd.api.types.is_numeric_dtype(content):\n",
    "        # turning categories into number adding 1\n",
    "        hepatitis[label] = pd.Categorical(content).codes +1"
   ]
  },
  {
   "cell_type": "code",
   "execution_count": null,
   "id": "ab90ddeb",
   "metadata": {},
   "outputs": [],
   "source": [
    "# check columns that are'nt numeric \n",
    "for label, content in hepatitis.items():\n",
    "    if not pd.api.types.is_numeric_dtype(content):\n",
    "        print(label)"
   ]
  },
  {
   "cell_type": "code",
   "execution_count": null,
   "id": "304c84d3",
   "metadata": {},
   "outputs": [],
   "source": [
    "hepatitis.info()"
   ]
  },
  {
   "cell_type": "code",
   "execution_count": null,
   "id": "33a725c1",
   "metadata": {},
   "outputs": [],
   "source": [
    "hepatitis"
   ]
  },
  {
   "cell_type": "code",
   "execution_count": null,
   "id": "a582e5cf",
   "metadata": {},
   "outputs": [],
   "source": [
    "temp_hep  = hepatitis.copy()\n",
    "temp_hep "
   ]
  },
  {
   "cell_type": "code",
   "execution_count": null,
   "id": "00467abb",
   "metadata": {},
   "outputs": [],
   "source": [
    "\n",
    "temp_hep"
   ]
  },
  {
   "cell_type": "code",
   "execution_count": null,
   "id": "e22a637f",
   "metadata": {},
   "outputs": [],
   "source": [
    "hepatitis"
   ]
  },
  {
   "cell_type": "code",
   "execution_count": null,
   "id": "b764ddfc",
   "metadata": {},
   "outputs": [],
   "source": [
    "# deleting unwanted columns\n",
    "del hepatitis[\"Unnamed: 0\"]\n",
    "hepatitis"
   ]
  },
  {
   "cell_type": "markdown",
   "id": "52a650ae",
   "metadata": {},
   "source": [
    "## Exploratory data Analysis\n"
   ]
  },
  {
   "cell_type": "code",
   "execution_count": null,
   "id": "6a332b04",
   "metadata": {},
   "outputs": [],
   "source": [
    "# Histogram of age\n",
    "hepatitis[\"Age\"].plot(kind = \"hist\", bins=10);"
   ]
  },
  {
   "cell_type": "code",
   "execution_count": null,
   "id": "064e7f93",
   "metadata": {},
   "outputs": [],
   "source": [
    "hepatitis[\"Age\"].value_counts().sort_values(ascending=True)"
   ]
  },
  {
   "cell_type": "code",
   "execution_count": null,
   "id": "0f7d8311",
   "metadata": {
    "scrolled": true
   },
   "outputs": [],
   "source": [
    "over_30 = hepatitis[hepatitis[\"Age\"]>30]\n",
    "over_30"
   ]
  },
  {
   "cell_type": "code",
   "execution_count": null,
   "id": "f55568f0",
   "metadata": {},
   "outputs": [],
   "source": [
    "hepatitis[\"CHE\"].min()"
   ]
  },
  {
   "cell_type": "code",
   "execution_count": null,
   "id": "57e8b456",
   "metadata": {},
   "outputs": [],
   "source": [
    "fig, ax= plt.subplots(figsize=(10, 6))\n",
    "over_30.plot(kind ='scatter',\n",
    "            x='Age',\n",
    "            y='CHOL',\n",
    "            c='Category',\n",
    "            ax=ax);\n",
    "ax.set_xlim((20, 80));"
   ]
  },
  {
   "cell_type": "code",
   "execution_count": null,
   "id": "2651f196",
   "metadata": {},
   "outputs": [],
   "source": [
    "fig, ax= plt.subplots(figsize=(10, 6))\n",
    "hepatitis.plot(kind ='scatter',\n",
    "            x='Age',\n",
    "            y='CHOL',\n",
    "            c='Category',\n",
    "            ax=ax);\n",
    "ax.set_xlim((20, 80));"
   ]
  },
  {
   "cell_type": "code",
   "execution_count": null,
   "id": "52ecbfc5",
   "metadata": {},
   "outputs": [],
   "source": [
    "fig, (ax0, ax1) = plt.subplots(nrows=2,\n",
    "                              ncols =1,\n",
    "                              figsize = (10, 20), \n",
    "                              sharex = True)\n",
    "\n",
    "# Add data to ax0\n",
    "scatter = ax0.scatter(x = hepatitis[\"Age\"],\n",
    "                    y = hepatitis[\"CHOL\"],\n",
    "                    c = hepatitis[\"Category\"],\n",
    "                     cmap = 'tab10')\n",
    "#customize ax0\n",
    "ax0.set(title= \"Hepatitis and Cholesterol Levels\",\n",
    "      ylabel= \"Cholesterol\")\n",
    "# change the x axis limits\n",
    "ax0.set_xlim([20,80])\n",
    "# add legend\n",
    "ax0.legend(*scatter.legend_elements(), title= \"Category\")\n",
    "\n",
    "# Add a horizontal line\n",
    "\n",
    "ax0.axhline(hepatitis[\"CHOL\"].mean(),\n",
    "          linestyle = '--');\n",
    "\n",
    "# Add data to ax1\n",
    "scatter = ax1.scatter(x = hepatitis[\"Age\"],\n",
    "                    y = hepatitis[\"CHE\"],\n",
    "                    c = hepatitis[\"Category\"],\n",
    "                     cmap = 'tab10')\n",
    "#customize ax1\n",
    "ax1.set(title= \"Hepatitis and Cholinesterase(CHE)\",\n",
    "      xlabel= \"Age\",\n",
    "      ylabel= \"Cholinesterase\")\n",
    "# Change ax1 x axis limits\n",
    "\n",
    "ax1.set_ylim([1, 20])\n",
    "# add legend ax1\n",
    "ax1.legend(*scatter.legend_elements(), title= \"Category\")\n",
    "\n",
    "# Add a horizontal line\n",
    "\n",
    "ax1.axhline(hepatitis[\"CHE\"].mean(),\n",
    "          linestyle = '--');\n",
    "\n",
    "\n"
   ]
  },
  {
   "cell_type": "code",
   "execution_count": null,
   "id": "062bcd94",
   "metadata": {},
   "outputs": [],
   "source": [
    "hepatitis"
   ]
  },
  {
   "cell_type": "code",
   "execution_count": null,
   "id": "0ab022c1",
   "metadata": {},
   "outputs": [],
   "source": [
    "hepatitis[\"ALB\"].value_counts().sum()"
   ]
  },
  {
   "cell_type": "code",
   "execution_count": null,
   "id": "42889d11",
   "metadata": {},
   "outputs": [],
   "source": [
    "fig, (ax2, ax3) = plt.subplots(nrows=2,\n",
    "                              ncols =1,\n",
    "                              figsize = (10, 20), \n",
    "                              sharex = True)\n",
    "\n",
    "# Add data to ax0\n",
    "scatter = ax2.scatter(x = hepatitis[\"Age\"],\n",
    "                    y = hepatitis[\"ALB\"],\n",
    "                    c = hepatitis[\"Category\"],\n",
    "                     cmap = 'tab10')\n",
    "#customize ax0\n",
    "ax2.set(title= \"Hepatitis and Albumin(ALB)\",\n",
    "      ylabel= \"Albumin(ALB)\")\n",
    "# change the x axis limits\n",
    "ax2.set_xlim([20,80])\n",
    "# add legend\n",
    "ax2.legend(*scatter.legend_elements(), title= \"Category\")\n",
    "\n",
    "# Add a horizontal line\n",
    "\n",
    "ax2.axhline(hepatitis[\"ALB\"].mean(),\n",
    "          linestyle = '--');\n",
    "\n",
    "# Add data to ax1\n",
    "scatter = ax3.scatter(x = hepatitis[\"Age\"],\n",
    "                    y = hepatitis[\"ALP\"],\n",
    "                    c = hepatitis[\"Category\"],\n",
    "                     cmap = 'tab10')\n",
    "#customize ax1\n",
    "ax3.set(title= \"Hepatitis and Alkaline phosphatase (ALP)\",\n",
    "      xlabel= \"Age\",\n",
    "      ylabel= \"Alkaline phosphatase (ALP)\")\n",
    "# Change ax1 x axis limits\n",
    "\n",
    "ax3.set_ylim([1,250])\n",
    "# add legend ax1\n",
    "ax3.legend(*scatter.legend_elements(), title= \"Category\")\n",
    "\n",
    "# Add a horizontal line\n",
    "\n",
    "ax3.axhline(hepatitis[\"ALP\"].mean(),\n",
    "          linestyle = '--');\n",
    "\n"
   ]
  },
  {
   "cell_type": "code",
   "execution_count": null,
   "id": "a021ad3f",
   "metadata": {},
   "outputs": [],
   "source": [
    "fig, (ax4, ax5) = plt.subplots(nrows=2,\n",
    "                              ncols =1,\n",
    "                              figsize = (10, 20), \n",
    "                              sharex = True)\n",
    "\n",
    "# Add data to ax0\n",
    "scatter = ax4.scatter(x = hepatitis[\"Age\"],\n",
    "                    y = hepatitis[\"ALT\"],\n",
    "                    c = hepatitis[\"Category\"],\n",
    "                     cmap = 'tab10')\n",
    "#customize ax0\n",
    "ax4.set(title= \"Hepatitis and Alanine Transaminase(ALT)\",\n",
    "      ylabel= \"Alanine Transaminase(ALT)\")\n",
    "# change the x axis limits\n",
    "ax4.set_xlim([20,80])\n",
    "ax4.set_ylim([0, 150])\n",
    "# add legend\n",
    "ax4.legend(*scatter.legend_elements(), title= \"Category\")\n",
    "\n",
    "# Add a horizontal line\n",
    "\n",
    "ax4.axhline(hepatitis[\"ALT\"].mean(),\n",
    "          linestyle = '--');\n",
    "\n",
    "# Add data to ax1\n",
    "scatter = ax5.scatter(x = hepatitis[\"Age\"],\n",
    "                    y = hepatitis[\"AST\"],\n",
    "                    c = hepatitis[\"Category\"],\n",
    "                     cmap = 'tab10')\n",
    "#customize ax1\n",
    "ax5.set(title= \"Hepatitis and Aspartate Aminotransferase(AST)\",\n",
    "      xlabel= \"Age\",\n",
    "      ylabel= \"Aspartate Aminotransferase(AST)\")\n",
    "# Change ax1 x axis limits\n",
    "\n",
    "ax5.set_ylim([1,200])\n",
    "# add legend ax1\n",
    "ax5.legend(*scatter.legend_elements(), title= \"Category\")\n",
    "\n",
    "# Add a horizontal line\n",
    "\n",
    "ax5.axhline(hepatitis[\"AST\"].mean(),\n",
    "          linestyle = '--');\n",
    "\n"
   ]
  },
  {
   "cell_type": "code",
   "execution_count": null,
   "id": "2e201d03",
   "metadata": {},
   "outputs": [],
   "source": [
    "fig, (ax6, ax7) = plt.subplots(nrows=2,\n",
    "                              ncols =1,\n",
    "                              figsize = (10, 20), \n",
    "                              sharex = True)\n",
    "\n",
    "# Add data to ax0\n",
    "scatter = ax6.scatter(x = hepatitis[\"Age\"],\n",
    "                    y = hepatitis[\"BIL\"],\n",
    "                    c = hepatitis[\"Category\"],\n",
    "                     cmap = 'tab10')\n",
    "#customize ax0\n",
    "ax6.set(title= \"Hepatitis and BIL\",\n",
    "      ylabel= \"BIL\")\n",
    "# change the x axis limits\n",
    "ax6.set_xlim([20,80])\n",
    "ax6.set_ylim([0,70])\n",
    "# add legend\n",
    "ax6.legend(*scatter.legend_elements(), title= \"Category\")\n",
    "\n",
    "# Add a horizontal line\n",
    "\n",
    "ax6.axhline(hepatitis[\"ALT\"].mean(),\n",
    "          linestyle = '--');\n",
    "\n",
    "# Add data to ax1\n",
    "scatter = ax7.scatter(x = hepatitis[\"Age\"],\n",
    "                    y = hepatitis[\"CREA\"],\n",
    "                    c = hepatitis[\"Category\"],\n",
    "                     cmap = 'tab10')\n",
    "#customize ax1\n",
    "ax7.set(title= \"Hepatitis and Creatinine(CREA)\",\n",
    "      xlabel= \"Age\",\n",
    "      ylabel= \"Creatinine(CREA)\")\n",
    "# Change ax1 x axis limits\n",
    "\n",
    "ax7.set_ylim([0,200])\n",
    "# add legend ax1\n",
    "ax7.legend(*scatter.legend_elements(), title= \"Category\")\n",
    "\n",
    "# Add a horizontal line\n",
    "\n",
    "ax7.axhline(hepatitis[\"CREA\"].mean(),\n",
    "          linestyle = '--');\n",
    "\n"
   ]
  },
  {
   "cell_type": "code",
   "execution_count": null,
   "id": "faafdce2",
   "metadata": {},
   "outputs": [],
   "source": [
    "fig, (ax8, ax9) = plt.subplots(nrows=2,\n",
    "                              ncols =1,\n",
    "                              figsize = (10, 20), \n",
    "                              sharex = True)\n",
    "\n",
    "# Add data to ax0\n",
    "scatter = ax8.scatter(x = hepatitis[\"Age\"],\n",
    "                    y = hepatitis[\"GGT\"],\n",
    "                    c = hepatitis[\"Category\"],\n",
    "                     cmap = 'tab10')\n",
    "#customize ax0\n",
    "ax8.set(title= \"Hepatitis and Gamma-glutamyl Transferase (GGT)\",\n",
    "      ylabel= \"Gamma-glutamyl Transferase (GGT)\")\n",
    "# change the x axis limits\n",
    "ax8.set_xlim([20,80])\n",
    "ax8.set_ylim([0,500])\n",
    "# add legend\n",
    "ax8.legend(*scatter.legend_elements(), title= \"Category\")\n",
    "\n",
    "# Add a horizontal line\n",
    "\n",
    "ax8.axhline(hepatitis[\"GGT\"].mean(),\n",
    "          linestyle = '--');\n",
    "\n",
    "# Add data to ax1\n",
    "scatter = ax9.scatter(x = hepatitis[\"Age\"],\n",
    "                    y = hepatitis[\"PROT\"],\n",
    "                    c = hepatitis[\"Category\"],\n",
    "                     cmap = 'tab10')\n",
    "#customize ax1\n",
    "ax9.set(title= \"Hepatitis and PROT\",\n",
    "      xlabel= \"Age\",\n",
    "      ylabel= \"PROT)\")\n",
    "# Change ax1 x axis limits\n",
    "\n",
    "ax9.set_ylim([40,95])\n",
    "# add legend ax1\n",
    "ax9.legend(*scatter.legend_elements(), title= \"Category\")\n",
    "\n",
    "# Add a horizontal line\n",
    "\n",
    "ax9.axhline(hepatitis[\"PROT\"].mean(),\n",
    "          linestyle = '--');\n"
   ]
  },
  {
   "cell_type": "code",
   "execution_count": null,
   "id": "f0f1dc03",
   "metadata": {},
   "outputs": [],
   "source": [
    "hepatitis"
   ]
  },
  {
   "cell_type": "code",
   "execution_count": null,
   "id": "14d306b0",
   "metadata": {},
   "outputs": [],
   "source": [
    "hepatitis.corr()"
   ]
  },
  {
   "cell_type": "code",
   "execution_count": null,
   "id": "4d07602c",
   "metadata": {},
   "outputs": [],
   "source": [
    "corr_metrix = hepatitis.corr()\n",
    "import seaborn as sns"
   ]
  },
  {
   "cell_type": "code",
   "execution_count": null,
   "id": "04d88cfd",
   "metadata": {},
   "outputs": [],
   "source": [
    "fig, ax = plt.subplots(figsize=(15,10))\n",
    "ax = sns.heatmap(corr_metrix,\n",
    "                annot =True,\n",
    "                linewidths = 0.5,\n",
    "                fmt= \".2f\",\n",
    "                cmap = \"YlGnBu\" );"
   ]
  },
  {
   "cell_type": "markdown",
   "id": "8562320c",
   "metadata": {},
   "source": [
    "## Modelling"
   ]
  },
  {
   "cell_type": "code",
   "execution_count": null,
   "id": "b9335443",
   "metadata": {},
   "outputs": [],
   "source": [
    "hepatitis_df = hepatitis.copy()\n",
    "hepatitis_df"
   ]
  },
  {
   "cell_type": "code",
   "execution_count": null,
   "id": "3e0f394b",
   "metadata": {},
   "outputs": [],
   "source": [
    "del hepatitis_df[\"ALB_is_missing\"]\n",
    "del hepatitis_df[ \"ALP_is_missing\"]\n",
    "del hepatitis_df[\"ALT_is_missing\"]\n",
    "del hepatitis_df[\"CHOL_is_missing\"]\n",
    "del hepatitis_df[\"PROT_is_missing\"]"
   ]
  },
  {
   "cell_type": "code",
   "execution_count": null,
   "id": "6a0d29b2",
   "metadata": {},
   "outputs": [],
   "source": [
    "hepatitis_df"
   ]
  },
  {
   "cell_type": "code",
   "execution_count": null,
   "id": "80bfbebe",
   "metadata": {},
   "outputs": [],
   "source": [
    "# Spliting data into features(x) and label(y)\n",
    "\n",
    "x = hepatitis_df.drop(\"Category\", axis = 1)\n",
    "y = hepatitis_df[\"Category\"]"
   ]
  },
  {
   "cell_type": "code",
   "execution_count": null,
   "id": "32bfdef9",
   "metadata": {},
   "outputs": [],
   "source": [
    "# Spliting data into train and test sets\n",
    "np.random.seed(42)\n",
    "\n",
    "# Split into train and test sets\n",
    "x_train, x_test, y_train, y_test = train_test_split(x, y, test_size=0.2)"
   ]
  },
  {
   "cell_type": "code",
   "execution_count": null,
   "id": "49885168",
   "metadata": {},
   "outputs": [],
   "source": [
    "x_train"
   ]
  },
  {
   "cell_type": "code",
   "execution_count": null,
   "id": "b67daf2f",
   "metadata": {},
   "outputs": [],
   "source": [
    " x_test"
   ]
  },
  {
   "cell_type": "code",
   "execution_count": null,
   "id": "41af13ca",
   "metadata": {},
   "outputs": [],
   "source": [
    "x_train.shape, x_test.shape, y_train.shape, y_test.shape"
   ]
  },
  {
   "cell_type": "markdown",
   "id": "535aba10",
   "metadata": {},
   "source": [
    "\n",
    " Comparing 3 different machine learning models for our data:\n",
    " 1. logistic regression\n",
    " 2. K-NearestNeigbour\n",
    " 3. Random Forest Classifier"
   ]
  },
  {
   "cell_type": "code",
   "execution_count": null,
   "id": "712b4639",
   "metadata": {},
   "outputs": [],
   "source": [
    "# Put models in a dictionary\n",
    "\n",
    "models = {\"Logistic Regression\": LogisticRegression(),\n",
    "          \"KNN\": KNeighborsClassifier (),\n",
    "          \"Random Forest\": RandomForestClassifier()}\n",
    "\n",
    "# Create a function to fit and score model \n",
    "def fit_and_score(models, x_train, x_test, y_train, y_test):\n",
    "    \"\"\"\n",
    "    Fit and evaluate given machine learning models.\n",
    "    model : a dict different sklearn ml model\n",
    "    x_train : trainig data (no labels)\n",
    "    x_text : testing data (no labels)\n",
    "    y_train : training labels\n",
    "    y_test : testing labels\n",
    "    \n",
    "    \"\"\"\n",
    "    # set random seed \n",
    "    np.random.seed(42)\n",
    "    # Make a dictionary to keep model scores\n",
    "    model_scores = {}\n",
    "    # Loop through models \n",
    "    for name, model in models.items():\n",
    "        #Fit the model to the data\n",
    "        model.fit(x_train, y_train)\n",
    "        # Evaluate the model and append it's score to model_scores\n",
    "        model_scores[name] = model.score(x_test, y_test)\n",
    "    return model_scores"
   ]
  },
  {
   "cell_type": "code",
   "execution_count": null,
   "id": "ae7eade6",
   "metadata": {},
   "outputs": [],
   "source": [
    "model_scores = fit_and_score(models = models,\n",
    "                            x_train = x_train,\n",
    "                            x_test = x_test,\n",
    "                            y_train = y_train,\n",
    "                            y_test = y_test)\n",
    "\n",
    "model_scores"
   ]
  },
  {
   "cell_type": "code",
   "execution_count": null,
   "id": "12da26c5",
   "metadata": {},
   "outputs": [],
   "source": [
    "model_compare = pd.DataFrame(model_scores, index= [\"accuracy\"])\n",
    "model_compare.T.plot.bar();"
   ]
  },
  {
   "cell_type": "markdown",
   "id": "240cc8cc",
   "metadata": {},
   "source": [
    "## Hyperparameter tuning with RandimizedSearchCV"
   ]
  },
  {
   "cell_type": "markdown",
   "id": "6f5da1a0",
   "metadata": {},
   "source": [
    " Tunning \n",
    "* RandomForestClassifier()\n",
    "* LogisticRegression()\n",
    "\n",
    "using RandimizedSearchCV"
   ]
  },
  {
   "cell_type": "code",
   "execution_count": null,
   "id": "59c13226",
   "metadata": {},
   "outputs": [],
   "source": [
    "# Create a hyperparameter grid for logisticRegression\n",
    "log_reg_grid ={\"C\": np.logspace(-4, 4, 20),\n",
    "              \"solver\" : [\"liblinear\"]}\n",
    "\n",
    "# Create a hyperparameter grid for RandomForestRegressor\n",
    "rf_grid = {\"n_estimators\": np.arange(10, 1000, 50),\n",
    "          \"max_depth\": [None, 3, 5, 10],\n",
    "          \"min_samples_split\": np.arange(2, 20, 2),\n",
    "          \"min_samples_leaf\": np.arange(1, 20, 2)}"
   ]
  },
  {
   "cell_type": "code",
   "execution_count": null,
   "id": "5e09b370",
   "metadata": {},
   "outputs": [],
   "source": [
    "\n",
    "\n",
    "# setup random hyperparameter search for a LogisticRegression\n",
    "\n",
    "rs_log_reg = RandomizedSearchCV(LogisticRegression(),\n",
    "                               param_distributions = log_reg_grid,\n",
    "                               cv = 5,\n",
    "                               n_iter = 20,\n",
    "                               verbose = True,\n",
    "                               random_state= 42)\n",
    "\n",
    "# fit random hyperparameter search model for LogisticRegression\n",
    "rs_log_reg.fit(x_train, y_train)\n"
   ]
  },
  {
   "cell_type": "code",
   "execution_count": null,
   "id": "5b10aba9",
   "metadata": {},
   "outputs": [],
   "source": [
    "rs_log_reg.best_params_"
   ]
  },
  {
   "cell_type": "code",
   "execution_count": null,
   "id": "d3642237",
   "metadata": {},
   "outputs": [],
   "source": [
    "\n",
    "#  Setup random hyperparameter search for RandomForestClassifier()\n",
    "rs_rf = RandomizedSearchCV(RandomForestClassifier(),\n",
    "                          param_distributions = rf_grid,\n",
    "                          cv = 5,\n",
    "                          n_iter = 20,\n",
    "                          verbose = True,\n",
    "                          random_state=42)\n",
    "\n",
    "rs_rf.fit(x_train, y_train)"
   ]
  },
  {
   "cell_type": "code",
   "execution_count": null,
   "id": "2943e3f9",
   "metadata": {},
   "outputs": [],
   "source": [
    "rs_rf.best_params_"
   ]
  },
  {
   "cell_type": "code",
   "execution_count": null,
   "id": "62e06c78",
   "metadata": {},
   "outputs": [],
   "source": [
    "# Evaluating the randomizedsearched  model \n",
    "rs_log_reg.score(x_test, y_test)\n"
   ]
  },
  {
   "cell_type": "code",
   "execution_count": null,
   "id": "2df513b8",
   "metadata": {},
   "outputs": [],
   "source": [
    "rs_rf.score(x_test, y_test)"
   ]
  },
  {
   "cell_type": "markdown",
   "id": "f346136d",
   "metadata": {},
   "source": [
    "## hyperparameter tuning with GridSearchCv\n"
   ]
  },
  {
   "cell_type": "code",
   "execution_count": null,
   "id": "1b41cbb2",
   "metadata": {},
   "outputs": [],
   "source": [
    "%%time\n",
    "# Different Hyperparameters for our LogisticRegression model \n",
    "\n",
    "log_reg_gs={\"C\": np.logspace(-4, 4, 30),\n",
    "              \"solver\" : [\"liblinear\"]}\n",
    "\n",
    "\n",
    "\n",
    "rf_gs = {\"n_estimators\": np.arange(10, 1000, 50),\n",
    "          \"max_depth\": [None, 3, 5, 10],\n",
    "          \"min_samples_split\": np.arange(2, 20, 2),\n",
    "          \"min_samples_leaf\": np.arange(1, 20, 2)}\n",
    "\n"
   ]
  },
  {
   "cell_type": "code",
   "execution_count": null,
   "id": "bc865e9d",
   "metadata": {},
   "outputs": [],
   "source": [
    "# Create a hyperparameter grid for LogisticRegression\n",
    "gs_log_model = GridSearchCV(LogisticRegression(),\n",
    "                          param_grid = log_reg_gs,\n",
    "                          cv = 5,\n",
    "                          verbose = True)\n",
    "\n",
    "gs_log_model.fit(x_train, y_train)"
   ]
  },
  {
   "cell_type": "code",
   "execution_count": null,
   "id": "6ca9dba1",
   "metadata": {},
   "outputs": [],
   "source": [
    "gs_log_model.best_params_"
   ]
  },
  {
   "cell_type": "code",
   "execution_count": null,
   "id": "034f1b38",
   "metadata": {},
   "outputs": [],
   "source": [
    "gs_log_model.score(x_test, y_test)"
   ]
  },
  {
   "cell_type": "markdown",
   "id": "20289bba",
   "metadata": {},
   "source": [
    "## since logistics regression model gave the best score lets make focus more on tuning with best parameter and save model for prediction "
   ]
  },
  {
   "cell_type": "code",
   "execution_count": null,
   "id": "a45240d9",
   "metadata": {},
   "outputs": [],
   "source": [
    "# Instantiating a LogisticRegression classifier using the best hyperparameters from RandomizedSearchCV\n",
    "clf_hepatitis_model = LogisticRegression(solver = 'liblinear', C =  1.3738237958832638)\n",
    "\n",
    "# Fitting the new instance of LogisticRegression with the best hyperparameters on the training databest_para = {'solver': 'liblinear', 'C': 1.3738237958832638}\n",
    "clf_hepatitis_model.fit(x_train, y_train)\n",
    "clf_hepatitis_model.score(x_test, y_test)"
   ]
  },
  {
   "cell_type": "code",
   "execution_count": null,
   "id": "adce0170",
   "metadata": {},
   "outputs": [],
   "source": [
    "# Make predictions on test data \n",
    "y_preds = clf_hepatitis_model.predict(x_test)"
   ]
  },
  {
   "cell_type": "code",
   "execution_count": null,
   "id": "63733385",
   "metadata": {},
   "outputs": [],
   "source": [
    "# Confusion matrix\n",
    "from sklearn.metrics import confusion_matrix\n",
    "confusion_matrix(y_test, y_preds)"
   ]
  },
  {
   "cell_type": "code",
   "execution_count": null,
   "id": "c7d0b068",
   "metadata": {},
   "outputs": [],
   "source": [
    "# Creating a more visual confusion matrix\n",
    "import seaborn as sns\n",
    "import matplotlib.pyplot as plt\n",
    "\n",
    "\n",
    "sns.heatmap(confusion_matrix(y_test, y_preds), annot=True, cmap='GnBu')\n",
    "sns.set(font_scale=2)"
   ]
  },
  {
   "cell_type": "code",
   "execution_count": null,
   "id": "3e0a10b9",
   "metadata": {},
   "outputs": [],
   "source": [
    "# Classification Report \n",
    "from sklearn.metrics import classification_report\n",
    "class_report = classification_report(y_test, y_preds)\n",
    "print(class_report)"
   ]
  },
  {
   "cell_type": "code",
   "execution_count": null,
   "id": "0ac2c9c5",
   "metadata": {},
   "outputs": [],
   "source": [
    "# ROC (receiver operator characteristic) curve & AUC (area under curve)\n",
    "from sklearn.metrics import plot_roc_curve\n",
    "\n",
    "plot_roc_curve(clf_hepatitis_model, x_test, y_test);"
   ]
  },
  {
   "cell_type": "code",
   "execution_count": null,
   "id": "0628d851",
   "metadata": {},
   "outputs": [],
   "source": []
  }
 ],
 "metadata": {
  "kernelspec": {
   "display_name": "Python 3 (ipykernel)",
   "language": "python",
   "name": "python3"
  },
  "language_info": {
   "codemirror_mode": {
    "name": "ipython",
    "version": 3
   },
   "file_extension": ".py",
   "mimetype": "text/x-python",
   "name": "python",
   "nbconvert_exporter": "python",
   "pygments_lexer": "ipython3",
   "version": "3.8.0"
  }
 },
 "nbformat": 4,
 "nbformat_minor": 5
}
